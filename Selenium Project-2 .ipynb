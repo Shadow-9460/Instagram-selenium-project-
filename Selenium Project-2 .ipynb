{
 "cells": [
  {
   "cell_type": "code",
   "execution_count": 33,
   "id": "c814d606",
   "metadata": {},
   "outputs": [],
   "source": [
    "#### Solving 1.1 with basic one #### "
   ]
  },
  {
   "cell_type": "code",
   "execution_count": 2,
   "id": "1f2f0355",
   "metadata": {},
   "outputs": [],
   "source": [
    "from selenium import webdriver\n",
    "from time import sleep \n",
    "driver = webdriver.Chrome(executable_path = 'D:\\chrome driver\\chromedriver.exe')\n"
   ]
  },
  {
   "cell_type": "code",
   "execution_count": 3,
   "id": "3e6ce688",
   "metadata": {},
   "outputs": [],
   "source": [
    "driver.get('https://www.instagram.com/')\n",
    "sleep(1)"
   ]
  },
  {
   "cell_type": "code",
   "execution_count": 4,
   "id": "7e580d13",
   "metadata": {},
   "outputs": [],
   "source": [
    "user_input = driver.find_element_by_css_selector('input[name = \"username\"]')\n",
    "password_input = driver.find_element_by_css_selector('input[name = \"password\"]')"
   ]
  },
  {
   "cell_type": "code",
   "execution_count": 5,
   "id": "b45ad4bf",
   "metadata": {},
   "outputs": [],
   "source": [
    "user_input.send_keys(\"prince2401singh@gmail.com\")\n",
    "password_input.send_keys(\"Reyansh@1\")"
   ]
  },
  {
   "cell_type": "code",
   "execution_count": 6,
   "id": "f56e77c0",
   "metadata": {},
   "outputs": [],
   "source": [
    "login_button = driver.find_element_by_xpath(\"//button[@type='submit']\")\n",
    "login_button.click()"
   ]
  },
  {
   "cell_type": "code",
   "execution_count": 7,
   "id": "3fea159b",
   "metadata": {},
   "outputs": [],
   "source": [
    "not_now = driver.find_element_by_xpath(\"//button[@type = 'button']\")\n",
    "not_now.click()"
   ]
  },
  {
   "cell_type": "code",
   "execution_count": 37,
   "id": "0f14e826",
   "metadata": {},
   "outputs": [
    {
     "ename": "NoSuchElementException",
     "evalue": "Message: no such element: Unable to locate element: {\"method\":\"xpath\",\"selector\":\"//*[@id=\"react-root\"]/section/main/div/div/div/div/button\"}\n  (Session info: chrome=97.0.4692.71)\n",
     "output_type": "error",
     "traceback": [
      "\u001b[1;31m---------------------------------------------------------------------------\u001b[0m",
      "\u001b[1;31mNoSuchElementException\u001b[0m                    Traceback (most recent call last)",
      "\u001b[1;32m<ipython-input-37-6f1f5fe4095d>\u001b[0m in \u001b[0;36m<module>\u001b[1;34m\u001b[0m\n\u001b[1;32m----> 1\u001b[1;33m \u001b[0mdriver\u001b[0m\u001b[1;33m.\u001b[0m\u001b[0mfind_element_by_xpath\u001b[0m\u001b[1;33m(\u001b[0m\u001b[1;34m'//*[@id=\"react-root\"]/section/main/div/div/div/div/button'\u001b[0m\u001b[1;33m)\u001b[0m\u001b[1;33m.\u001b[0m\u001b[0mclick\u001b[0m\u001b[1;33m(\u001b[0m\u001b[1;33m)\u001b[0m\u001b[1;33m\u001b[0m\u001b[1;33m\u001b[0m\u001b[0m\n\u001b[0m",
      "\u001b[1;32m~\\anaconda3\\lib\\site-packages\\selenium\\webdriver\\remote\\webdriver.py\u001b[0m in \u001b[0;36mfind_element_by_xpath\u001b[1;34m(self, xpath)\u001b[0m\n\u001b[0;32m    392\u001b[0m             \u001b[0melement\u001b[0m \u001b[1;33m=\u001b[0m \u001b[0mdriver\u001b[0m\u001b[1;33m.\u001b[0m\u001b[0mfind_element_by_xpath\u001b[0m\u001b[1;33m(\u001b[0m\u001b[1;34m'//div/td[1]'\u001b[0m\u001b[1;33m)\u001b[0m\u001b[1;33m\u001b[0m\u001b[1;33m\u001b[0m\u001b[0m\n\u001b[0;32m    393\u001b[0m         \"\"\"\n\u001b[1;32m--> 394\u001b[1;33m         \u001b[1;32mreturn\u001b[0m \u001b[0mself\u001b[0m\u001b[1;33m.\u001b[0m\u001b[0mfind_element\u001b[0m\u001b[1;33m(\u001b[0m\u001b[0mby\u001b[0m\u001b[1;33m=\u001b[0m\u001b[0mBy\u001b[0m\u001b[1;33m.\u001b[0m\u001b[0mXPATH\u001b[0m\u001b[1;33m,\u001b[0m \u001b[0mvalue\u001b[0m\u001b[1;33m=\u001b[0m\u001b[0mxpath\u001b[0m\u001b[1;33m)\u001b[0m\u001b[1;33m\u001b[0m\u001b[1;33m\u001b[0m\u001b[0m\n\u001b[0m\u001b[0;32m    395\u001b[0m \u001b[1;33m\u001b[0m\u001b[0m\n\u001b[0;32m    396\u001b[0m     \u001b[1;32mdef\u001b[0m \u001b[0mfind_elements_by_xpath\u001b[0m\u001b[1;33m(\u001b[0m\u001b[0mself\u001b[0m\u001b[1;33m,\u001b[0m \u001b[0mxpath\u001b[0m\u001b[1;33m)\u001b[0m\u001b[1;33m:\u001b[0m\u001b[1;33m\u001b[0m\u001b[1;33m\u001b[0m\u001b[0m\n",
      "\u001b[1;32m~\\anaconda3\\lib\\site-packages\\selenium\\webdriver\\remote\\webdriver.py\u001b[0m in \u001b[0;36mfind_element\u001b[1;34m(self, by, value)\u001b[0m\n\u001b[0;32m    974\u001b[0m                 \u001b[0mby\u001b[0m \u001b[1;33m=\u001b[0m \u001b[0mBy\u001b[0m\u001b[1;33m.\u001b[0m\u001b[0mCSS_SELECTOR\u001b[0m\u001b[1;33m\u001b[0m\u001b[1;33m\u001b[0m\u001b[0m\n\u001b[0;32m    975\u001b[0m                 \u001b[0mvalue\u001b[0m \u001b[1;33m=\u001b[0m \u001b[1;34m'[name=\"%s\"]'\u001b[0m \u001b[1;33m%\u001b[0m \u001b[0mvalue\u001b[0m\u001b[1;33m\u001b[0m\u001b[1;33m\u001b[0m\u001b[0m\n\u001b[1;32m--> 976\u001b[1;33m         return self.execute(Command.FIND_ELEMENT, {\n\u001b[0m\u001b[0;32m    977\u001b[0m             \u001b[1;34m'using'\u001b[0m\u001b[1;33m:\u001b[0m \u001b[0mby\u001b[0m\u001b[1;33m,\u001b[0m\u001b[1;33m\u001b[0m\u001b[1;33m\u001b[0m\u001b[0m\n\u001b[0;32m    978\u001b[0m             'value': value})['value']\n",
      "\u001b[1;32m~\\anaconda3\\lib\\site-packages\\selenium\\webdriver\\remote\\webdriver.py\u001b[0m in \u001b[0;36mexecute\u001b[1;34m(self, driver_command, params)\u001b[0m\n\u001b[0;32m    319\u001b[0m         \u001b[0mresponse\u001b[0m \u001b[1;33m=\u001b[0m \u001b[0mself\u001b[0m\u001b[1;33m.\u001b[0m\u001b[0mcommand_executor\u001b[0m\u001b[1;33m.\u001b[0m\u001b[0mexecute\u001b[0m\u001b[1;33m(\u001b[0m\u001b[0mdriver_command\u001b[0m\u001b[1;33m,\u001b[0m \u001b[0mparams\u001b[0m\u001b[1;33m)\u001b[0m\u001b[1;33m\u001b[0m\u001b[1;33m\u001b[0m\u001b[0m\n\u001b[0;32m    320\u001b[0m         \u001b[1;32mif\u001b[0m \u001b[0mresponse\u001b[0m\u001b[1;33m:\u001b[0m\u001b[1;33m\u001b[0m\u001b[1;33m\u001b[0m\u001b[0m\n\u001b[1;32m--> 321\u001b[1;33m             \u001b[0mself\u001b[0m\u001b[1;33m.\u001b[0m\u001b[0merror_handler\u001b[0m\u001b[1;33m.\u001b[0m\u001b[0mcheck_response\u001b[0m\u001b[1;33m(\u001b[0m\u001b[0mresponse\u001b[0m\u001b[1;33m)\u001b[0m\u001b[1;33m\u001b[0m\u001b[1;33m\u001b[0m\u001b[0m\n\u001b[0m\u001b[0;32m    322\u001b[0m             response['value'] = self._unwrap_value(\n\u001b[0;32m    323\u001b[0m                 response.get('value', None))\n",
      "\u001b[1;32m~\\anaconda3\\lib\\site-packages\\selenium\\webdriver\\remote\\errorhandler.py\u001b[0m in \u001b[0;36mcheck_response\u001b[1;34m(self, response)\u001b[0m\n\u001b[0;32m    240\u001b[0m                 \u001b[0malert_text\u001b[0m \u001b[1;33m=\u001b[0m \u001b[0mvalue\u001b[0m\u001b[1;33m[\u001b[0m\u001b[1;34m'alert'\u001b[0m\u001b[1;33m]\u001b[0m\u001b[1;33m.\u001b[0m\u001b[0mget\u001b[0m\u001b[1;33m(\u001b[0m\u001b[1;34m'text'\u001b[0m\u001b[1;33m)\u001b[0m\u001b[1;33m\u001b[0m\u001b[1;33m\u001b[0m\u001b[0m\n\u001b[0;32m    241\u001b[0m             \u001b[1;32mraise\u001b[0m \u001b[0mexception_class\u001b[0m\u001b[1;33m(\u001b[0m\u001b[0mmessage\u001b[0m\u001b[1;33m,\u001b[0m \u001b[0mscreen\u001b[0m\u001b[1;33m,\u001b[0m \u001b[0mstacktrace\u001b[0m\u001b[1;33m,\u001b[0m \u001b[0malert_text\u001b[0m\u001b[1;33m)\u001b[0m\u001b[1;33m\u001b[0m\u001b[1;33m\u001b[0m\u001b[0m\n\u001b[1;32m--> 242\u001b[1;33m         \u001b[1;32mraise\u001b[0m \u001b[0mexception_class\u001b[0m\u001b[1;33m(\u001b[0m\u001b[0mmessage\u001b[0m\u001b[1;33m,\u001b[0m \u001b[0mscreen\u001b[0m\u001b[1;33m,\u001b[0m \u001b[0mstacktrace\u001b[0m\u001b[1;33m)\u001b[0m\u001b[1;33m\u001b[0m\u001b[1;33m\u001b[0m\u001b[0m\n\u001b[0m\u001b[0;32m    243\u001b[0m \u001b[1;33m\u001b[0m\u001b[0m\n\u001b[0;32m    244\u001b[0m     \u001b[1;32mdef\u001b[0m \u001b[0m_value_or_default\u001b[0m\u001b[1;33m(\u001b[0m\u001b[0mself\u001b[0m\u001b[1;33m,\u001b[0m \u001b[0mobj\u001b[0m\u001b[1;33m,\u001b[0m \u001b[0mkey\u001b[0m\u001b[1;33m,\u001b[0m \u001b[0mdefault\u001b[0m\u001b[1;33m)\u001b[0m\u001b[1;33m:\u001b[0m\u001b[1;33m\u001b[0m\u001b[1;33m\u001b[0m\u001b[0m\n",
      "\u001b[1;31mNoSuchElementException\u001b[0m: Message: no such element: Unable to locate element: {\"method\":\"xpath\",\"selector\":\"//*[@id=\"react-root\"]/section/main/div/div/div/div/button\"}\n  (Session info: chrome=97.0.4692.71)\n"
     ]
    }
   ],
   "source": [
    "driver.find_element_by_xpath('//*[@id=\"react-root\"]/section/main/div/div/div/div/button').click()  "
   ]
  },
  {
   "cell_type": "code",
   "execution_count": 38,
   "id": "9c381c41",
   "metadata": {},
   "outputs": [],
   "source": [
    "from selenium.webdriver.common.keys import Keys"
   ]
  },
  {
   "cell_type": "code",
   "execution_count": 10,
   "id": "7c1593f5",
   "metadata": {},
   "outputs": [],
   "source": [
    "search = driver.find_element_by_xpath('//*[@id=\"react-root\"]/section/nav/div[2]/div/div/div[2]/input')\n",
    "sleep(2)\n",
    "search.send_keys('food')"
   ]
  },
  {
   "cell_type": "code",
   "execution_count": 11,
   "id": "b7ac3e92",
   "metadata": {},
   "outputs": [],
   "source": [
    "search2 = driver.find_elements_by_class_name('_7UhW9.xLCgt.qyrsm.KV-D4.uL8Hv')"
   ]
  },
  {
   "cell_type": "code",
   "execution_count": 12,
   "id": "391ff0e3",
   "metadata": {},
   "outputs": [
    {
     "name": "stdout",
     "output_type": "stream",
     "text": [
      "dilsefoodie\n",
      "foodie_incarnate\n",
      "delhi_street_food1\n",
      "food_grillz\n",
      "food_food_delhi\n",
      "jakarufoodpark\n",
      "food\n",
      "_food_life_16_\n",
      "mealsfortummy\n",
      "wanderingg_foodie\n",
      "delhi_streets_food\n",
      "food_khokha\n",
      "food__with__exploring\n",
      "platesoffflavour\n",
      "#food\n",
      "foodhunter_sabu\n",
      "trivianfoodie\n",
      "foody_lover2\n",
      "trivandrum.foodies\n",
      "myfoodblogv0.1\n",
      "food_zayka\n",
      "food_in_my_vein\n",
      "food_fiesta___\n",
      "jodhpuri_foody_buddies\n",
      "foodie_kidilolski\n",
      "foody_bliss\n",
      "foodie_sandeep_\n",
      "yourfoodlab\n",
      "food_flavours94\n",
      "lucknow_foodie\n",
      "foodmones\n",
      "realfoodlover143\n",
      "foodzeee\n",
      "food_mood_590\n",
      "#foodporn\n",
      "#foodie\n",
      "food.o.holic\n",
      "the_rightbites\n",
      "food__diaries____\n",
      "#foodblogger\n",
      "foodholicbanaras\n",
      "ohmyfoodie_24\n",
      "food.lovelife\n",
      "foodntraveltales24x7\n",
      "shrinathcafe\n",
      "foodbia2021\n",
      "wearefoodielovers\n",
      "foodrush.recipe\n",
      "#foodphotography\n",
      "div_food_journey\n",
      "hungry_betches__\n",
      "food__l0ve\n",
      "lucknowfoodcastle\n",
      "foodie_shristi\n",
      "flavours_of_fitness\n",
      "foodies4forever\n"
     ]
    }
   ],
   "source": [
    "for i in search2:\n",
    "    print(i.text)\n",
    "    "
   ]
  },
  {
   "cell_type": "code",
   "execution_count": 13,
   "id": "f27a6883",
   "metadata": {},
   "outputs": [],
   "source": [
    "l = []\n",
    "for i in search2:\n",
    "    l.append(i.text)\n",
    "    "
   ]
  },
  {
   "cell_type": "code",
   "execution_count": 14,
   "id": "50446d3b",
   "metadata": {},
   "outputs": [
    {
     "name": "stdout",
     "output_type": "stream",
     "text": [
      "dilsefoodie\n",
      "foodie_incarnate\n",
      "delhi_street_food1\n",
      "food_grillz\n",
      "food_food_delhi\n",
      "jakarufoodpark\n",
      "food\n",
      "_food_life_16_\n",
      "mealsfortummy\n",
      "wanderingg_foodie\n"
     ]
    }
   ],
   "source": [
    "p = []\n",
    "for i in range(10):\n",
    "    p.append(l[i])"
   ]
  },
  {
   "cell_type": "code",
   "execution_count": 20,
   "id": "dd0b92d8",
   "metadata": {},
   "outputs": [],
   "source": [
    "n = []\n",
    "for i in m:\n",
    "    if 'followers' in i:\n",
    "        n.append(i.split()[0])"
   ]
  },
  {
   "cell_type": "code",
   "execution_count": null,
   "id": "fad5a1fe",
   "metadata": {},
   "outputs": [],
   "source": []
  },
  {
   "cell_type": "code",
   "execution_count": 21,
   "id": "5fc298f6",
   "metadata": {},
   "outputs": [],
   "source": [
    "s = []\n",
    "k = []\n",
    "for i in n:\n",
    "    i = i.replace(',','')\n",
    "    s.append(i)\n",
    "for i in s:\n",
    "    if '.' in i:\n",
    "        i = i.replace('.','')\n",
    "        i = i.replace('k','00')\n",
    "        i = i.replace('m','00000')\n",
    "    else:\n",
    "        i = i.replace('k','000')\n",
    "        i = i.replace('m','00000')\n",
    "    k.append(i)\n",
    "\n"
   ]
  },
  {
   "cell_type": "code",
   "execution_count": null,
   "id": "03e6ee89",
   "metadata": {},
   "outputs": [],
   "source": []
  },
  {
   "cell_type": "code",
   "execution_count": 22,
   "id": "7f8dcd5b",
   "metadata": {},
   "outputs": [],
   "source": [
    "d = {}\n",
    "for i in range(len(p)):\n",
    "    d[p[i]] = int(k[i])"
   ]
  },
  {
   "cell_type": "code",
   "execution_count": 23,
   "id": "b839407e",
   "metadata": {},
   "outputs": [
    {
     "name": "stdout",
     "output_type": "stream",
     "text": [
      "{'foodie_incarnate': 1100000, 'dilsefoodie': 959000, 'wanderingg_foodie': 169000, 'food': 157000, 'food_food_delhi': 65400, 'delhi_street_food1': 53700, 'mealsfortummy': 19800, 'jakarufoodpark': 16800, 'food_grillz': 2905, '_food_life_16_': 21}\n"
     ]
    }
   ],
   "source": [
    "list_ = sorted(d.items(),key = lambda x:x[1],reverse = True)\n",
    "sorted_dict = dict(list_)\n",
    "print(sorted_dict)"
   ]
  },
  {
   "cell_type": "code",
   "execution_count": 32,
   "id": "ed51ca26",
   "metadata": {},
   "outputs": [
    {
     "name": "stdout",
     "output_type": "stream",
     "text": [
      "foodie_incarnate   1100000\n",
      "dilsefoodie   959000\n",
      "wanderingg_foodie   169000\n",
      "food   157000\n",
      "food_food_delhi   65400\n"
     ]
    }
   ],
   "source": [
    "from collections import Counter\n",
    "k = Counter(sorted_dict)\n",
    "high = k.most_common(5)\n",
    "for i in high:\n",
    "    print(i[0],' ',i[1])"
   ]
  },
  {
   "cell_type": "code",
   "execution_count": 39,
   "id": "4247a6ac",
   "metadata": {},
   "outputs": [],
   "source": [
    "### 1.2 ####"
   ]
  },
  {
   "cell_type": "code",
   "execution_count": 1,
   "id": "f78e8fae",
   "metadata": {},
   "outputs": [],
   "source": [
    "import selenium\n",
    "from selenium import webdriver\n",
    "from selenium.common.exceptions import NoSuchElementException\n",
    "from selenium.webdriver.common.keys import Keys \n",
    "from selenium.webdriver.support.ui import WebDriverWait\n",
    "from selenium.webdriver.support import expected_conditions as EC\n",
    "from selenium.webdriver.common.by import By\n",
    "from selenium.webdriver.common.action_chains import ActionChains\n",
    "from bs4 import BeautifulSoup as bsp\n",
    "import bs4\n",
    "import time\n",
    "import pandas as pd\n",
    "import matplotlib.pyplot as plt"
   ]
  },
  {
   "cell_type": "code",
   "execution_count": 2,
   "id": "2b1e1ad1",
   "metadata": {},
   "outputs": [],
   "source": [
    "from selenium import webdriver\n",
    "from time import sleep \n",
    "driver = webdriver.Chrome(executable_path = 'D:\\chrome driver\\chromedriver.exe')"
   ]
  },
  {
   "cell_type": "code",
   "execution_count": 44,
   "id": "15a5ef8c",
   "metadata": {},
   "outputs": [],
   "source": [
    "def login():\n",
    "    driver.get('https://www.instagram.com/')\n",
    "    sleep(6)\n",
    "    user_name = driver.find_element_by_css_selector('input[type = \"text\"]')\n",
    "    password = driver.find_element_by_css_selector('input[type = \"password\"]')\n",
    "    sleep(6)\n",
    "    user_name.send_keys('prince2401singh@gmail.com')\n",
    "    password.send_keys('Reyansh@1')\n",
    "    driver.find_element_by_css_selector('button[type = \"submit\"]').click()\n",
    "    sleep(2)\n",
    "    driver.find_element_by_css_selector('button[type = \"button\"]').click()\n",
    "    sleep(4)\n",
    "    driver.find_element_by_class_name('sqdOP.yWX7d.y3zKF').click()\n",
    "    sleep(5)  \n",
    "    driver.find_element_by_class_name('aOOlW.HoLwm').click()"
   ]
  },
  {
   "cell_type": "code",
   "execution_count": 45,
   "id": "e49e628c",
   "metadata": {},
   "outputs": [],
   "source": [
    "login()"
   ]
  },
  {
   "cell_type": "code",
   "execution_count": null,
   "id": "e7975114",
   "metadata": {},
   "outputs": [],
   "source": [
    "def text_box(searchthis):\n",
    "    text_box = driver.find_element_by_css_selector('input[type = \"text\"]')\n",
    "    text_box.clear()\n",
    "    text_box.send_keys(searchthis)"
   ]
  },
  {
   "cell_type": "code",
   "execution_count": null,
   "id": "73647691",
   "metadata": {},
   "outputs": [],
   "source": [
    "def instahandel():\n",
    "    text_box('food')\n",
    "    sleep(5)\n",
    "    instahandel = driver.find_elements_by_class_name('_7UhW9.xLCgt.qyrsm.KV-D4.uL8Hv')\n",
    "    l = []\n",
    "    for i in instahandel:\n",
    "        l.append(i.text)\n",
    "    food_handle = []\n",
    "    for j in range(10):\n",
    "        food_handle.append(l[j])\n",
    "        \n",
    "    return food_handle"
   ]
  },
  {
   "cell_type": "code",
   "execution_count": 46,
   "id": "b654c623",
   "metadata": {},
   "outputs": [],
   "source": [
    "def Search(driver, srch_str): #Function to search the accounts\n",
    "    search = driver.find_element_by_class_name(\"XTCLo\") #Path of search button\n",
    "    search.clear() #Clear previous Search results if any\n",
    "    search.send_keys(srch_str) #Send keys for nwe search \n",
    "    time.sleep(2) #Time to open new site\n",
    "    \n",
    "def str_to_int(str_): #Function to get followers as integer\n",
    "    str_ = str(str_) \n",
    "    str_ = str_.replace(\",\", \"\") #Converting string followers to integer\n",
    "    for i in str_:\n",
    "        if i == \".\": \n",
    "            str_ = str_.replace(\".\", \"\")\n",
    "            str_ = str_.replace(\"k\", \"00\") #Replace \"K\" followes to 1000 round off fig \n",
    "            str_ = str_.replace(\"m\", \"00000\") #Replace \"M\" followers to 100,000 Million rounf off fig\n",
    "        else:\n",
    "            str_ = str_.replace(\"k\", \"000\")\n",
    "            str_ = str_.replace(\"m\", \"000000\")            \n",
    "    str_ = int(str_)\n",
    "    return str_\n",
    "\n",
    "def get_followers_number(driver): #Function to return followers\n",
    "    path = \"/html/body/div[1]/section/main/div/header/section/ul/li[2]/a/span\" #path of \n",
    "    k = driver.find_element_by_xpath(path).get_attribute(\"innerHTML\") #Get the followes ar string\n",
    "    k = str_to_int(k)\n",
    "    return k"
   ]
  },
  {
   "cell_type": "code",
   "execution_count": 47,
   "id": "9ad7b657",
   "metadata": {},
   "outputs": [
    {
     "ename": "TimeoutException",
     "evalue": "Message: \n",
     "output_type": "error",
     "traceback": [
      "\u001b[1;31m---------------------------------------------------------------------------\u001b[0m",
      "\u001b[1;31mTimeoutException\u001b[0m                          Traceback (most recent call last)",
      "\u001b[1;32m<ipython-input-47-f6124266897c>\u001b[0m in \u001b[0;36m<module>\u001b[1;34m\u001b[0m\n\u001b[0;32m     16\u001b[0m     \u001b[0mk\u001b[0m \u001b[1;33m=\u001b[0m \u001b[0mSearch\u001b[0m\u001b[1;33m(\u001b[0m\u001b[0mdriver\u001b[0m\u001b[1;33m,\u001b[0m \u001b[0mi\u001b[0m\u001b[1;33m)\u001b[0m\u001b[1;33m\u001b[0m\u001b[1;33m\u001b[0m\u001b[0m\n\u001b[0;32m     17\u001b[0m     \u001b[0mtime\u001b[0m\u001b[1;33m.\u001b[0m\u001b[0msleep\u001b[0m\u001b[1;33m(\u001b[0m\u001b[1;36m2\u001b[0m\u001b[1;33m)\u001b[0m\u001b[1;33m\u001b[0m\u001b[1;33m\u001b[0m\u001b[0m\n\u001b[1;32m---> 18\u001b[1;33m     \u001b[0mopen_acc\u001b[0m \u001b[1;33m=\u001b[0m \u001b[0mwait\u001b[0m\u001b[1;33m.\u001b[0m\u001b[0muntil\u001b[0m\u001b[1;33m(\u001b[0m\u001b[0mEC\u001b[0m\u001b[1;33m.\u001b[0m\u001b[0mpresence_of_element_located\u001b[0m\u001b[1;33m(\u001b[0m\u001b[1;33m(\u001b[0m\u001b[0mBy\u001b[0m\u001b[1;33m.\u001b[0m\u001b[0mCLASS_NAME\u001b[0m\u001b[1;33m,\u001b[0m \u001b[1;34m\"-qQT3\"\u001b[0m\u001b[1;33m)\u001b[0m\u001b[1;33m)\u001b[0m\u001b[1;33m)\u001b[0m \u001b[1;31m#Open account to get the followers number\u001b[0m\u001b[1;33m\u001b[0m\u001b[1;33m\u001b[0m\u001b[0m\n\u001b[0m\u001b[0;32m     19\u001b[0m     \u001b[0mopen_acc\u001b[0m\u001b[1;33m.\u001b[0m\u001b[0mclick\u001b[0m\u001b[1;33m(\u001b[0m\u001b[1;33m)\u001b[0m\u001b[1;33m\u001b[0m\u001b[1;33m\u001b[0m\u001b[0m\n\u001b[0;32m     20\u001b[0m     \u001b[0mtime\u001b[0m\u001b[1;33m.\u001b[0m\u001b[0msleep\u001b[0m\u001b[1;33m(\u001b[0m\u001b[1;36m2\u001b[0m\u001b[1;33m)\u001b[0m \u001b[1;31m#time to open the account\u001b[0m\u001b[1;33m\u001b[0m\u001b[1;33m\u001b[0m\u001b[0m\n",
      "\u001b[1;32m~\\anaconda3\\lib\\site-packages\\selenium\\webdriver\\support\\wait.py\u001b[0m in \u001b[0;36muntil\u001b[1;34m(self, method, message)\u001b[0m\n\u001b[0;32m     78\u001b[0m             \u001b[1;32mif\u001b[0m \u001b[0mtime\u001b[0m\u001b[1;33m.\u001b[0m\u001b[0mtime\u001b[0m\u001b[1;33m(\u001b[0m\u001b[1;33m)\u001b[0m \u001b[1;33m>\u001b[0m \u001b[0mend_time\u001b[0m\u001b[1;33m:\u001b[0m\u001b[1;33m\u001b[0m\u001b[1;33m\u001b[0m\u001b[0m\n\u001b[0;32m     79\u001b[0m                 \u001b[1;32mbreak\u001b[0m\u001b[1;33m\u001b[0m\u001b[1;33m\u001b[0m\u001b[0m\n\u001b[1;32m---> 80\u001b[1;33m         \u001b[1;32mraise\u001b[0m \u001b[0mTimeoutException\u001b[0m\u001b[1;33m(\u001b[0m\u001b[0mmessage\u001b[0m\u001b[1;33m,\u001b[0m \u001b[0mscreen\u001b[0m\u001b[1;33m,\u001b[0m \u001b[0mstacktrace\u001b[0m\u001b[1;33m)\u001b[0m\u001b[1;33m\u001b[0m\u001b[1;33m\u001b[0m\u001b[0m\n\u001b[0m\u001b[0;32m     81\u001b[0m \u001b[1;33m\u001b[0m\u001b[0m\n\u001b[0;32m     82\u001b[0m     \u001b[1;32mdef\u001b[0m \u001b[0muntil_not\u001b[0m\u001b[1;33m(\u001b[0m\u001b[0mself\u001b[0m\u001b[1;33m,\u001b[0m \u001b[0mmethod\u001b[0m\u001b[1;33m,\u001b[0m \u001b[0mmessage\u001b[0m\u001b[1;33m=\u001b[0m\u001b[1;34m''\u001b[0m\u001b[1;33m)\u001b[0m\u001b[1;33m:\u001b[0m\u001b[1;33m\u001b[0m\u001b[1;33m\u001b[0m\u001b[0m\n",
      "\u001b[1;31mTimeoutException\u001b[0m: Message: \n"
     ]
    }
   ],
   "source": [
    "Search(driver, \"food\") #Search for food to get a list of top 10 results\n",
    "wait = WebDriverWait(driver, 3)\n",
    "wait.until(EC.presence_of_element_located((By.CLASS_NAME, \"qyrsm\")))\n",
    "search_li = driver.find_elements_by_class_name(\"qyrsm\")\n",
    "\n",
    "food_li = [] #Saving result as list since seacrh result may differ every time search \n",
    "for i in search_li[8:]: \n",
    "    if len(food_li)>9:\n",
    "        break\n",
    "    if i.get_attribute(\"innerHTML\")[0] != \"#\": #removing hastags \n",
    "        food_li.append(i.get_attribute(\"innerHTML\"))\n",
    "\n",
    "srch_path = \"//div/div[2]/div[1]\" #Search result path\n",
    "food_dict = {} #Saving accts and followers as dic to sort easily\n",
    "for i in food_li:\n",
    "    k = Search(driver, i)\n",
    "    time.sleep(2)\n",
    "    open_acc = wait.until(EC.presence_of_element_located((By.CLASS_NAME, \"-qQT3\"))) #Open account to get the followers number\n",
    "    open_acc.click()\n",
    "    time.sleep(2) #time to open the account\n",
    "    flwrs =  get_followers_number(driver)\n",
    "    food_dict[i] = flwrs\n",
    "food_list = []\n",
    "food_dict\n",
    "food_dict = {key: value for key, value in sorted(food_dict.items(), key=lambda item: item[1], reverse = True)[:5]} #Sort the dict to get top 5 account\n",
    "\n",
    "print(\"List of Top 5 insta handles with maximum followers\")\n",
    "for i in food_dict:\n",
    "    food_list.append(i)\n",
    "    print(i)\n",
    "    \n",
    "driver.get(\"https://www.instagram.com/\") #Back to home page to ensure search is complete"
   ]
  },
  {
   "cell_type": "code",
   "execution_count": null,
   "id": "cb205b4f",
   "metadata": {},
   "outputs": [],
   "source": []
  }
 ],
 "metadata": {
  "kernelspec": {
   "display_name": "Python 3",
   "language": "python",
   "name": "python3"
  },
  "language_info": {
   "codemirror_mode": {
    "name": "ipython",
    "version": 3
   },
   "file_extension": ".py",
   "mimetype": "text/x-python",
   "name": "python",
   "nbconvert_exporter": "python",
   "pygments_lexer": "ipython3",
   "version": "3.8.8"
  }
 },
 "nbformat": 4,
 "nbformat_minor": 5
}
