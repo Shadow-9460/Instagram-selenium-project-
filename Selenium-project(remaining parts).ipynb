{
 "cells": [
  {
   "cell_type": "code",
   "execution_count": 1,
   "id": "3c9b7da7",
   "metadata": {},
   "outputs": [],
   "source": [
    "# importing webdriver,selenium,chrome\n",
    "from selenium import webdriver\n",
    "from time import sleep\n",
    "driver = webdriver.Chrome(executable_path = 'D:\\chrome driver\\chromedriver.exe')"
   ]
  },
  {
   "cell_type": "code",
   "execution_count": 2,
   "id": "5080a787",
   "metadata": {},
   "outputs": [],
   "source": [
    "#providing the url of instagram\n",
    "driver.get('https://www.instagram.com/')\n",
    "sleep(1)"
   ]
  },
  {
   "cell_type": "code",
   "execution_count": 3,
   "id": "a585bedf",
   "metadata": {},
   "outputs": [],
   "source": [
    "# searching the username and the passwords \n",
    "user_input = driver.find_element_by_css_selector('input[name = \"username\"]')\n",
    "password_input = driver.find_element_by_css_selector('input[name = \"password\"]')"
   ]
  },
  {
   "cell_type": "code",
   "execution_count": 4,
   "id": "5a76a602",
   "metadata": {},
   "outputs": [],
   "source": [
    "#now entering the username and passwords onto it \n",
    "user_input.send_keys(\"prince2401singh@gmail.com\")\n",
    "password_input.send_keys(\"Reyansh@1\")"
   ]
  },
  {
   "cell_type": "code",
   "execution_count": 5,
   "id": "62abb466",
   "metadata": {},
   "outputs": [],
   "source": [
    "## now entering onto the login buttons\n",
    "login_button = driver.find_element_by_xpath(\"//button[@type='submit']\")\n",
    "login_button.click()"
   ]
  },
  {
   "cell_type": "code",
   "execution_count": 6,
   "id": "591fc177",
   "metadata": {},
   "outputs": [],
   "source": [
    "## clicking on the not now buttons\n",
    "not_now = driver.find_element_by_xpath(\"//button[@type = 'button']\")\n",
    "not_now.click()"
   ]
  },
  {
   "cell_type": "code",
   "execution_count": 7,
   "id": "6d8542e4",
   "metadata": {},
   "outputs": [
    {
     "ename": "ElementClickInterceptedException",
     "evalue": "Message: element click intercepted: Element <button class=\"wpO6b  \" type=\"button\">...</button> is not clickable at point (635, 263). Other element would receive the click: <h2 class=\"_7UhW9      x-6xq  yUEEX   KV-D4          uL8Hv         \">...</h2>\n  (Session info: chrome=97.0.4692.71)\n",
     "output_type": "error",
     "traceback": [
      "\u001b[1;31m---------------------------------------------------------------------------\u001b[0m",
      "\u001b[1;31mElementClickInterceptedException\u001b[0m          Traceback (most recent call last)",
      "\u001b[1;32m<ipython-input-7-c1a369a6ee27>\u001b[0m in \u001b[0;36m<module>\u001b[1;34m\u001b[0m\n\u001b[0;32m      1\u001b[0m \u001b[1;31m## finding the paths of buttons\u001b[0m\u001b[1;33m\u001b[0m\u001b[1;33m\u001b[0m\u001b[1;33m\u001b[0m\u001b[0m\n\u001b[1;32m----> 2\u001b[1;33m \u001b[0mdriver\u001b[0m\u001b[1;33m.\u001b[0m\u001b[0mfind_element_by_xpath\u001b[0m\u001b[1;33m(\u001b[0m\u001b[1;34m'//button[@type = \"button\"]'\u001b[0m\u001b[1;33m)\u001b[0m\u001b[1;33m.\u001b[0m\u001b[0mclick\u001b[0m\u001b[1;33m(\u001b[0m\u001b[1;33m)\u001b[0m\u001b[1;33m\u001b[0m\u001b[1;33m\u001b[0m\u001b[0m\n\u001b[0m",
      "\u001b[1;32m~\\anaconda3\\lib\\site-packages\\selenium\\webdriver\\remote\\webelement.py\u001b[0m in \u001b[0;36mclick\u001b[1;34m(self)\u001b[0m\n\u001b[0;32m     78\u001b[0m     \u001b[1;32mdef\u001b[0m \u001b[0mclick\u001b[0m\u001b[1;33m(\u001b[0m\u001b[0mself\u001b[0m\u001b[1;33m)\u001b[0m\u001b[1;33m:\u001b[0m\u001b[1;33m\u001b[0m\u001b[1;33m\u001b[0m\u001b[0m\n\u001b[0;32m     79\u001b[0m         \u001b[1;34m\"\"\"Clicks the element.\"\"\"\u001b[0m\u001b[1;33m\u001b[0m\u001b[1;33m\u001b[0m\u001b[0m\n\u001b[1;32m---> 80\u001b[1;33m         \u001b[0mself\u001b[0m\u001b[1;33m.\u001b[0m\u001b[0m_execute\u001b[0m\u001b[1;33m(\u001b[0m\u001b[0mCommand\u001b[0m\u001b[1;33m.\u001b[0m\u001b[0mCLICK_ELEMENT\u001b[0m\u001b[1;33m)\u001b[0m\u001b[1;33m\u001b[0m\u001b[1;33m\u001b[0m\u001b[0m\n\u001b[0m\u001b[0;32m     81\u001b[0m \u001b[1;33m\u001b[0m\u001b[0m\n\u001b[0;32m     82\u001b[0m     \u001b[1;32mdef\u001b[0m \u001b[0msubmit\u001b[0m\u001b[1;33m(\u001b[0m\u001b[0mself\u001b[0m\u001b[1;33m)\u001b[0m\u001b[1;33m:\u001b[0m\u001b[1;33m\u001b[0m\u001b[1;33m\u001b[0m\u001b[0m\n",
      "\u001b[1;32m~\\anaconda3\\lib\\site-packages\\selenium\\webdriver\\remote\\webelement.py\u001b[0m in \u001b[0;36m_execute\u001b[1;34m(self, command, params)\u001b[0m\n\u001b[0;32m    631\u001b[0m             \u001b[0mparams\u001b[0m \u001b[1;33m=\u001b[0m \u001b[1;33m{\u001b[0m\u001b[1;33m}\u001b[0m\u001b[1;33m\u001b[0m\u001b[1;33m\u001b[0m\u001b[0m\n\u001b[0;32m    632\u001b[0m         \u001b[0mparams\u001b[0m\u001b[1;33m[\u001b[0m\u001b[1;34m'id'\u001b[0m\u001b[1;33m]\u001b[0m \u001b[1;33m=\u001b[0m \u001b[0mself\u001b[0m\u001b[1;33m.\u001b[0m\u001b[0m_id\u001b[0m\u001b[1;33m\u001b[0m\u001b[1;33m\u001b[0m\u001b[0m\n\u001b[1;32m--> 633\u001b[1;33m         \u001b[1;32mreturn\u001b[0m \u001b[0mself\u001b[0m\u001b[1;33m.\u001b[0m\u001b[0m_parent\u001b[0m\u001b[1;33m.\u001b[0m\u001b[0mexecute\u001b[0m\u001b[1;33m(\u001b[0m\u001b[0mcommand\u001b[0m\u001b[1;33m,\u001b[0m \u001b[0mparams\u001b[0m\u001b[1;33m)\u001b[0m\u001b[1;33m\u001b[0m\u001b[1;33m\u001b[0m\u001b[0m\n\u001b[0m\u001b[0;32m    634\u001b[0m \u001b[1;33m\u001b[0m\u001b[0m\n\u001b[0;32m    635\u001b[0m     \u001b[1;32mdef\u001b[0m \u001b[0mfind_element\u001b[0m\u001b[1;33m(\u001b[0m\u001b[0mself\u001b[0m\u001b[1;33m,\u001b[0m \u001b[0mby\u001b[0m\u001b[1;33m=\u001b[0m\u001b[0mBy\u001b[0m\u001b[1;33m.\u001b[0m\u001b[0mID\u001b[0m\u001b[1;33m,\u001b[0m \u001b[0mvalue\u001b[0m\u001b[1;33m=\u001b[0m\u001b[1;32mNone\u001b[0m\u001b[1;33m)\u001b[0m\u001b[1;33m:\u001b[0m\u001b[1;33m\u001b[0m\u001b[1;33m\u001b[0m\u001b[0m\n",
      "\u001b[1;32m~\\anaconda3\\lib\\site-packages\\selenium\\webdriver\\remote\\webdriver.py\u001b[0m in \u001b[0;36mexecute\u001b[1;34m(self, driver_command, params)\u001b[0m\n\u001b[0;32m    319\u001b[0m         \u001b[0mresponse\u001b[0m \u001b[1;33m=\u001b[0m \u001b[0mself\u001b[0m\u001b[1;33m.\u001b[0m\u001b[0mcommand_executor\u001b[0m\u001b[1;33m.\u001b[0m\u001b[0mexecute\u001b[0m\u001b[1;33m(\u001b[0m\u001b[0mdriver_command\u001b[0m\u001b[1;33m,\u001b[0m \u001b[0mparams\u001b[0m\u001b[1;33m)\u001b[0m\u001b[1;33m\u001b[0m\u001b[1;33m\u001b[0m\u001b[0m\n\u001b[0;32m    320\u001b[0m         \u001b[1;32mif\u001b[0m \u001b[0mresponse\u001b[0m\u001b[1;33m:\u001b[0m\u001b[1;33m\u001b[0m\u001b[1;33m\u001b[0m\u001b[0m\n\u001b[1;32m--> 321\u001b[1;33m             \u001b[0mself\u001b[0m\u001b[1;33m.\u001b[0m\u001b[0merror_handler\u001b[0m\u001b[1;33m.\u001b[0m\u001b[0mcheck_response\u001b[0m\u001b[1;33m(\u001b[0m\u001b[0mresponse\u001b[0m\u001b[1;33m)\u001b[0m\u001b[1;33m\u001b[0m\u001b[1;33m\u001b[0m\u001b[0m\n\u001b[0m\u001b[0;32m    322\u001b[0m             response['value'] = self._unwrap_value(\n\u001b[0;32m    323\u001b[0m                 response.get('value', None))\n",
      "\u001b[1;32m~\\anaconda3\\lib\\site-packages\\selenium\\webdriver\\remote\\errorhandler.py\u001b[0m in \u001b[0;36mcheck_response\u001b[1;34m(self, response)\u001b[0m\n\u001b[0;32m    240\u001b[0m                 \u001b[0malert_text\u001b[0m \u001b[1;33m=\u001b[0m \u001b[0mvalue\u001b[0m\u001b[1;33m[\u001b[0m\u001b[1;34m'alert'\u001b[0m\u001b[1;33m]\u001b[0m\u001b[1;33m.\u001b[0m\u001b[0mget\u001b[0m\u001b[1;33m(\u001b[0m\u001b[1;34m'text'\u001b[0m\u001b[1;33m)\u001b[0m\u001b[1;33m\u001b[0m\u001b[1;33m\u001b[0m\u001b[0m\n\u001b[0;32m    241\u001b[0m             \u001b[1;32mraise\u001b[0m \u001b[0mexception_class\u001b[0m\u001b[1;33m(\u001b[0m\u001b[0mmessage\u001b[0m\u001b[1;33m,\u001b[0m \u001b[0mscreen\u001b[0m\u001b[1;33m,\u001b[0m \u001b[0mstacktrace\u001b[0m\u001b[1;33m,\u001b[0m \u001b[0malert_text\u001b[0m\u001b[1;33m)\u001b[0m\u001b[1;33m\u001b[0m\u001b[1;33m\u001b[0m\u001b[0m\n\u001b[1;32m--> 242\u001b[1;33m         \u001b[1;32mraise\u001b[0m \u001b[0mexception_class\u001b[0m\u001b[1;33m(\u001b[0m\u001b[0mmessage\u001b[0m\u001b[1;33m,\u001b[0m \u001b[0mscreen\u001b[0m\u001b[1;33m,\u001b[0m \u001b[0mstacktrace\u001b[0m\u001b[1;33m)\u001b[0m\u001b[1;33m\u001b[0m\u001b[1;33m\u001b[0m\u001b[0m\n\u001b[0m\u001b[0;32m    243\u001b[0m \u001b[1;33m\u001b[0m\u001b[0m\n\u001b[0;32m    244\u001b[0m     \u001b[1;32mdef\u001b[0m \u001b[0m_value_or_default\u001b[0m\u001b[1;33m(\u001b[0m\u001b[0mself\u001b[0m\u001b[1;33m,\u001b[0m \u001b[0mobj\u001b[0m\u001b[1;33m,\u001b[0m \u001b[0mkey\u001b[0m\u001b[1;33m,\u001b[0m \u001b[0mdefault\u001b[0m\u001b[1;33m)\u001b[0m\u001b[1;33m:\u001b[0m\u001b[1;33m\u001b[0m\u001b[1;33m\u001b[0m\u001b[0m\n",
      "\u001b[1;31mElementClickInterceptedException\u001b[0m: Message: element click intercepted: Element <button class=\"wpO6b  \" type=\"button\">...</button> is not clickable at point (635, 263). Other element would receive the click: <h2 class=\"_7UhW9      x-6xq  yUEEX   KV-D4          uL8Hv         \">...</h2>\n  (Session info: chrome=97.0.4692.71)\n"
     ]
    }
   ],
   "source": [
    "## finding the paths of buttons\n",
    "driver.find_element_by_xpath('//button[@type = \"button\"]').click()"
   ]
  },
  {
   "cell_type": "code",
   "execution_count": null,
   "id": "7008583a",
   "metadata": {},
   "outputs": [],
   "source": [
    "### finding the path of element not now for notification and click on enter \n",
    "driver.find_element_by_xpath('/html/body/div[6]/div/div/div/div[3]/button[2]').click()"
   ]
  },
  {
   "cell_type": "code",
   "execution_count": 8,
   "id": "afe18ef4",
   "metadata": {},
   "outputs": [],
   "source": [
    "search = driver.find_element_by_xpath('//*[@id=\"react-root\"]/section/nav/div[2]/div/div/div[2]/input')\n",
    "sleep(2)\n",
    "search.send_keys('foodtalkindia')"
   ]
  },
  {
   "cell_type": "code",
   "execution_count": 9,
   "id": "23a5886f",
   "metadata": {},
   "outputs": [],
   "source": [
    "from selenium.webdriver.common.keys import Keys"
   ]
  },
  {
   "cell_type": "code",
   "execution_count": 10,
   "id": "79743081",
   "metadata": {},
   "outputs": [],
   "source": [
    "search.send_keys(Keys.ENTER)\n",
    "sleep(3)\n",
    "search.send_keys(Keys.ENTER)"
   ]
  },
  {
   "cell_type": "code",
   "execution_count": 11,
   "id": "1e8139e3",
   "metadata": {},
   "outputs": [],
   "source": [
    "search = driver.find_element_by_xpath(\"//input[@type = 'text']\")"
   ]
  },
  {
   "cell_type": "code",
   "execution_count": 17,
   "id": "8bff18bd",
   "metadata": {},
   "outputs": [],
   "source": [
    "driver.find_element_by_xpath('//*[@id=\"react-root\"]/section/main/div/ul/li[2]/a').click()"
   ]
  },
  {
   "cell_type": "code",
   "execution_count": 14,
   "id": "185141e3",
   "metadata": {},
   "outputs": [],
   "source": [
    "driver.execute_script('window.scrollBy(0,1000);')"
   ]
  },
  {
   "cell_type": "code",
   "execution_count": 28,
   "id": "e8270f06",
   "metadata": {
    "scrolled": true
   },
   "outputs": [
    {
     "name": "stdout",
     "output_type": "stream",
     "text": [
      "dharanidharan00v\n",
      "viru__rawat\n",
      "abheythapar\n",
      "arogo._\n",
      "indore.bulletin\n",
      "kiranloopzz\n",
      "sizzling_eats\n",
      "jinc_the_foode\n",
      "dharan__v\n",
      "___.w.a.n.d.e.r.l.u.s.t.____\n",
      "mehar9.foodie\n",
      "rasheenangalia\n"
     ]
    }
   ],
   "source": [
    "search1 = driver.find_elements_by_class_name('Jv7Aj.mArmR.MqpiF')\n",
    "sleep(3)\n",
    "for i in search1:\n",
    "    print(i.text)    "
   ]
  },
  {
   "cell_type": "code",
   "execution_count": 29,
   "id": "8d4789b3",
   "metadata": {},
   "outputs": [],
   "source": [
    "driver.execute_script('window.location = \"https://www.instagram.com/foodtalkindia/followers/\";')"
   ]
  },
  {
   "cell_type": "code",
   "execution_count": null,
   "id": "16e10c1f",
   "metadata": {},
   "outputs": [],
   "source": []
  },
  {
   "cell_type": "code",
   "execution_count": null,
   "id": "71f768b7",
   "metadata": {},
   "outputs": [],
   "source": []
  },
  {
   "cell_type": "code",
   "execution_count": null,
   "id": "33f1e5d2",
   "metadata": {},
   "outputs": [],
   "source": []
  },
  {
   "cell_type": "code",
   "execution_count": 47,
   "id": "d5042977",
   "metadata": {},
   "outputs": [],
   "source": [
    "#####  Question-7 #### "
   ]
  },
  {
   "cell_type": "code",
   "execution_count": 58,
   "id": "d8d3dc11",
   "metadata": {},
   "outputs": [],
   "source": [
    "### Importing selenium library,webdriver and time\n",
    "from selenium import webdriver\n",
    "from time import sleep\n",
    "driver = webdriver.Chrome(executable_path = 'D:\\chrome driver\\chromedriver.exe')"
   ]
  },
  {
   "cell_type": "code",
   "execution_count": 49,
   "id": "513045c1",
   "metadata": {},
   "outputs": [],
   "source": [
    "#### Providing the url #\n",
    "driver.get('https://www.instagram.com/')\n",
    "sleep(1)"
   ]
  },
  {
   "cell_type": "code",
   "execution_count": 50,
   "id": "10396071",
   "metadata": {},
   "outputs": [],
   "source": [
    "## finding the username and password for filling the passwords and username ###\n",
    "user_input = driver.find_element_by_css_selector('input[name = \"username\"]')\n",
    "password_input = driver.find_element_by_css_selector('input[name = \"password\"]')"
   ]
  },
  {
   "cell_type": "code",
   "execution_count": 51,
   "id": "d045c6dc",
   "metadata": {},
   "outputs": [],
   "source": [
    "### Now giving the user-name and the passwords inthe given ####\n",
    "user_input.send_keys(\"sampleusername\")\n",
    "password_input.send_keys(\"Samplepassword\")"
   ]
  },
  {
   "cell_type": "code",
   "execution_count": 52,
   "id": "33dc488b",
   "metadata": {},
   "outputs": [],
   "source": [
    "### Now clicking on the login buttons by first searching it and than clicking it ###\n",
    "login_button = driver.find_element_by_xpath(\"//button[@type='submit']\")\n",
    "login_button.click()"
   ]
  },
  {
   "cell_type": "code",
   "execution_count": 53,
   "id": "9925276e",
   "metadata": {},
   "outputs": [],
   "source": [
    "##### Clicking on the not now buttons ###\n",
    "not_now = driver.find_element_by_xpath(\"//button[@type = 'button']\")\n",
    "not_now.click()"
   ]
  },
  {
   "cell_type": "code",
   "execution_count": 34,
   "id": "f1a4f987",
   "metadata": {},
   "outputs": [],
   "source": [
    "#### now finding the search menu of it ###\n",
    "search7 = driver.find_element_by_xpath(\"//input[@type = 'text']\")"
   ]
  },
  {
   "cell_type": "code",
   "execution_count": 35,
   "id": "87cde246",
   "metadata": {},
   "outputs": [],
   "source": [
    "#### now sending the coding ninjas into it ####\n",
    "search7.send_keys('coding.ninjas')"
   ]
  },
  {
   "cell_type": "code",
   "execution_count": 36,
   "id": "b4df690c",
   "metadata": {},
   "outputs": [],
   "source": [
    "#### now importing the keys from the webdrivers ####\n",
    "from selenium.webdriver.common.keys import Keys"
   ]
  },
  {
   "cell_type": "code",
   "execution_count": 37,
   "id": "705a9e62",
   "metadata": {},
   "outputs": [],
   "source": [
    "### Now clicking on the enter buttons ###\n",
    "search7.send_keys(Keys.ENTER)\n",
    "sleep(6)\n",
    "search7.send_keys(Keys.ENTER)"
   ]
  },
  {
   "cell_type": "code",
   "execution_count": 38,
   "id": "d74e9c59",
   "metadata": {},
   "outputs": [
    {
     "name": "stdout",
     "output_type": "stream",
     "text": [
      "no story available\n"
     ]
    }
   ],
   "source": [
    " #### as their was not stor will be avilable on to it simply print the no story ###\n",
    "print('no story available')"
   ]
  },
  {
   "cell_type": "code",
   "execution_count": null,
   "id": "4752eabc",
   "metadata": {},
   "outputs": [],
   "source": []
  }
 ],
 "metadata": {
  "kernelspec": {
   "display_name": "Python 3",
   "language": "python",
   "name": "python3"
  },
  "language_info": {
   "codemirror_mode": {
    "name": "ipython",
    "version": 3
   },
   "file_extension": ".py",
   "mimetype": "text/x-python",
   "name": "python",
   "nbconvert_exporter": "python",
   "pygments_lexer": "ipython3",
   "version": "3.8.8"
  }
 },
 "nbformat": 4,
 "nbformat_minor": 5
}
